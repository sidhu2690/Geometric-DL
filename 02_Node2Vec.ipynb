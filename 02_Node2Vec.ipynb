{
  "nbformat": 4,
  "nbformat_minor": 0,
  "metadata": {
    "colab": {
      "provenance": [],
      "authorship_tag": "ABX9TyPz7vB7egs7+5fKOe16oJt6",
      "include_colab_link": true
    },
    "kernelspec": {
      "name": "python3",
      "display_name": "Python 3"
    },
    "language_info": {
      "name": "python"
    }
  },
  "cells": [
    {
      "cell_type": "markdown",
      "metadata": {
        "id": "view-in-github",
        "colab_type": "text"
      },
      "source": [
        "<a href=\"https://colab.research.google.com/github/sidhu2690/Geometric-DL/blob/main/Node2Vec.ipynb\" target=\"_parent\"><img src=\"https://colab.research.google.com/assets/colab-badge.svg\" alt=\"Open In Colab\"/></a>"
      ]
    },
    {
      "cell_type": "code",
      "execution_count": 90,
      "metadata": {
        "colab": {
          "base_uri": "https://localhost:8080/"
        },
        "id": "ecBA9TyFOpP0",
        "outputId": "27d15307-0878-4d42-9816-d0c0bd48323f"
      },
      "outputs": [
        {
          "output_type": "stream",
          "name": "stdout",
          "text": [
            "[0, 3, 2, 1, 2]\n"
          ]
        }
      ],
      "source": [
        "import numpy as np\n",
        "import random\n",
        "\n",
        "# Graph as adjacency list\n",
        "graph = {\n",
        "    0: [1,3],\n",
        "    1: [0,2],\n",
        "    2: [1,3],\n",
        "    3: [0,2]\n",
        "}\n",
        "\n",
        "def random_walk(start, walk_length=5):\n",
        "    walk = [start]\n",
        "    for _ in range(walk_length-1):\n",
        "        cur = walk[-1]\n",
        "        nxt = random.choice(graph[cur])\n",
        "        walk.append(nxt)\n",
        "    return walk\n",
        "\n",
        "# Example walk\n",
        "print(random_walk(0))\n"
      ]
    },
    {
      "cell_type": "code",
      "source": [
        "def generate_pairs(walk, window_size=2):\n",
        "    pairs = []\n",
        "    for i, center in enumerate(walk):\n",
        "        for j in range(max(0, i-window_size), min(len(walk), i+window_size+1)):\n",
        "            if i != j:\n",
        "                pairs.append((center, walk[j]))\n",
        "    return pairs\n",
        "\n",
        "walk = random_walk(0)\n",
        "pairs = generate_pairs(walk)\n",
        "print(\"Random Walk:\", walk)\n",
        "print(\"Training Pairs:\", pairs)\n"
      ],
      "metadata": {
        "colab": {
          "base_uri": "https://localhost:8080/"
        },
        "id": "lcMjY3h_OqFW",
        "outputId": "e82c5c0a-3ba0-4d40-d6d2-c96ff1ee09c6"
      },
      "execution_count": 91,
      "outputs": [
        {
          "output_type": "stream",
          "name": "stdout",
          "text": [
            "Random Walk: [0, 3, 0, 3, 0]\n",
            "Training Pairs: [(0, 3), (0, 0), (3, 0), (3, 0), (3, 3), (0, 0), (0, 3), (0, 3), (0, 0), (3, 3), (3, 0), (3, 0), (0, 0), (0, 3)]\n"
          ]
        }
      ]
    },
    {
      "cell_type": "code",
      "source": [
        "num_nodes = 4\n",
        "embed_dim = 3  # size of z\n",
        "Z = np.random.randn(num_nodes, embed_dim)"
      ],
      "metadata": {
        "id": "gilTtju6O1ol"
      },
      "execution_count": 92,
      "outputs": []
    },
    {
      "cell_type": "code",
      "source": [
        "def sigmoid(x):\n",
        "    return 1 / (1 + np.exp(-x))\n",
        "\n",
        "def train_pair(center, context, Z, lr=0.01, k=2):\n",
        "    # Positive pair\n",
        "    z_u = Z[center]\n",
        "    z_v = Z[context]\n",
        "\n",
        "    # Positive update\n",
        "    score = sigmoid(np.dot(z_u, z_v))\n",
        "    grad = (1 - score)\n",
        "    Z[center] += lr * grad * z_v\n",
        "    Z[context] += lr * grad * z_u\n",
        "\n",
        "    # Negative samples\n",
        "    for _ in range(k):\n",
        "        neg = random.randint(0, num_nodes-1)\n",
        "        if neg == center: continue\n",
        "        z_n = Z[neg]\n",
        "        score_neg = sigmoid(np.dot(z_u, z_n))\n",
        "        grad_neg = -score_neg\n",
        "        Z[center] += lr * grad_neg * z_n\n",
        "        Z[neg] += lr * grad_neg * z_u\n",
        "\n",
        "    return Z\n"
      ],
      "metadata": {
        "id": "XHhXrhU8PTUO"
      },
      "execution_count": 93,
      "outputs": []
    },
    {
      "cell_type": "code",
      "source": [
        "# Train\n",
        "for epoch in range(100):\n",
        "    for node in graph.keys():\n",
        "        walk = random_walk(node, walk_length=5)\n",
        "        pairs = generate_pairs(walk, window_size=2)\n",
        "        for center, context in pairs:\n",
        "            Z = train_pair(center, context, Z)\n",
        "\n",
        "print(\"Final embeddings (Z):\")\n",
        "print(Z)\n"
      ],
      "metadata": {
        "colab": {
          "base_uri": "https://localhost:8080/"
        },
        "id": "QWw8aEG4Pc5A",
        "outputId": "7d81aeb3-df57-4e88-8c21-8e9136a4f7f7"
      },
      "execution_count": 94,
      "outputs": [
        {
          "output_type": "stream",
          "name": "stdout",
          "text": [
            "Final embeddings (Z):\n",
            "[[ 1.04977213  2.45174522  0.55268559]\n",
            " [ 0.47224105 -0.32650802 -0.88530871]\n",
            " [-1.66079528  0.29864532 -0.45937652]\n",
            " [-0.03256875 -0.61807368  1.47605242]]\n"
          ]
        }
      ]
    }
  ]
}
